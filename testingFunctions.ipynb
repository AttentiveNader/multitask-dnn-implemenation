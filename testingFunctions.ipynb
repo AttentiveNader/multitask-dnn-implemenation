{
 "cells": [
  {
   "cell_type": "code",
   "execution_count": 15,
   "outputs": [
    {
     "data": {
      "text/plain": "                                               premise  \\\n0    Crude oil for April delivery traded at $37.80 ...   \n1    Oracle had fought to keep the forms from being...   \n2     iTunes software has seen strong sales in Europe.   \n3    All genetically modified food, including soya ...   \n4    Researchers at the Harvard School of Public He...   \n..                                                 ...   \n562  Time Warner is the world's largest media and I...   \n563  After watching fireworks yesterday evening in ...   \n564  Vice President Dick Cheney on Tuesday hurled a...   \n565  Chancellor Schroeder has presided over three y...   \n566  Two bombs planted near an Islamic school in Pa...   \n\n                                            hypothesis  label  \n0           Crude oil prices rose to $37.80 per barrel  FALSE  \n1              Oracle released a confidential document  FALSE  \n2                   Strong sales for iTunes in Europe.   TRUE  \n3    Companies selling genetically modified foods d...  FALSE  \n4                 Coffee drinking has health benefits.   TRUE  \n..                                                 ...    ...  \n562        Time Warner is the world's largest company.  FALSE  \n563                           Kerry watched fireworks.   TRUE  \n564               Cheney cursed at Sen. Patrick Leahy.   TRUE  \n565  More than four million people have remained st...  FALSE  \n566           42 people killed in Karachi bomb attack.  FALSE  \n\n[567 rows x 3 columns]",
      "text/html": "<div>\n<style scoped>\n    .dataframe tbody tr th:only-of-type {\n        vertical-align: middle;\n    }\n\n    .dataframe tbody tr th {\n        vertical-align: top;\n    }\n\n    .dataframe thead th {\n        text-align: right;\n    }\n</style>\n<table border=\"1\" class=\"dataframe\">\n  <thead>\n    <tr style=\"text-align: right;\">\n      <th></th>\n      <th>premise</th>\n      <th>hypothesis</th>\n      <th>label</th>\n    </tr>\n  </thead>\n  <tbody>\n    <tr>\n      <th>0</th>\n      <td>Crude oil for April delivery traded at $37.80 ...</td>\n      <td>Crude oil prices rose to $37.80 per barrel</td>\n      <td>FALSE</td>\n    </tr>\n    <tr>\n      <th>1</th>\n      <td>Oracle had fought to keep the forms from being...</td>\n      <td>Oracle released a confidential document</td>\n      <td>FALSE</td>\n    </tr>\n    <tr>\n      <th>2</th>\n      <td>iTunes software has seen strong sales in Europe.</td>\n      <td>Strong sales for iTunes in Europe.</td>\n      <td>TRUE</td>\n    </tr>\n    <tr>\n      <th>3</th>\n      <td>All genetically modified food, including soya ...</td>\n      <td>Companies selling genetically modified foods d...</td>\n      <td>FALSE</td>\n    </tr>\n    <tr>\n      <th>4</th>\n      <td>Researchers at the Harvard School of Public He...</td>\n      <td>Coffee drinking has health benefits.</td>\n      <td>TRUE</td>\n    </tr>\n    <tr>\n      <th>...</th>\n      <td>...</td>\n      <td>...</td>\n      <td>...</td>\n    </tr>\n    <tr>\n      <th>562</th>\n      <td>Time Warner is the world's largest media and I...</td>\n      <td>Time Warner is the world's largest company.</td>\n      <td>FALSE</td>\n    </tr>\n    <tr>\n      <th>563</th>\n      <td>After watching fireworks yesterday evening in ...</td>\n      <td>Kerry watched fireworks.</td>\n      <td>TRUE</td>\n    </tr>\n    <tr>\n      <th>564</th>\n      <td>Vice President Dick Cheney on Tuesday hurled a...</td>\n      <td>Cheney cursed at Sen. Patrick Leahy.</td>\n      <td>TRUE</td>\n    </tr>\n    <tr>\n      <th>565</th>\n      <td>Chancellor Schroeder has presided over three y...</td>\n      <td>More than four million people have remained st...</td>\n      <td>FALSE</td>\n    </tr>\n    <tr>\n      <th>566</th>\n      <td>Two bombs planted near an Islamic school in Pa...</td>\n      <td>42 people killed in Karachi bomb attack.</td>\n      <td>FALSE</td>\n    </tr>\n  </tbody>\n</table>\n<p>567 rows × 3 columns</p>\n</div>"
     },
     "execution_count": 15,
     "metadata": {},
     "output_type": "execute_result"
    }
   ],
   "source": [
    "import pandas as pd\n",
    "import xml.etree.ElementTree as et\n",
    "\n",
    "# xroot = et.parse(\"./data/rte/rte1_dev.xml\").getroot()\n",
    "# ds = {\"premise\":[],\"hypothesis\":[],\"label\":[]}\n",
    "# for i in xroot:\n",
    "#     premise = i[0].text\n",
    "#     hypothesis = i[1].text\n",
    "#     label = i.attrib.get(\"entailment\")\n",
    "#     label = label if label is not None else i.attrib.get(\"value\"\n",
    "#     label =\n",
    "#     ds[\"premise\"].append(premise)\n",
    "#     ds[\"hypothesis\"].append(hypothesis)\n",
    "#     ds[\"label\"].append(label)\n",
    "\n"
   ],
   "metadata": {
    "collapsed": false,
    "pycharm": {
     "name": "#%%\n"
    }
   }
  },
  {
   "cell_type": "code",
   "execution_count": 2,
   "outputs": [
    {
     "data": {
      "text/plain": "device(type='cuda')"
     },
     "execution_count": 2,
     "metadata": {},
     "output_type": "execute_result"
    }
   ],
   "source": [
    "import torch\n",
    "device = torch.device(\"cuda\" if torch.cuda.is_available() else \"cpu\")\n",
    "device\n"
   ],
   "metadata": {
    "collapsed": false,
    "pycharm": {
     "name": "#%%\n"
    }
   }
  },
  {
   "cell_type": "code",
   "execution_count": 4,
   "outputs": [
    {
     "name": "stderr",
     "output_type": "stream",
     "text": [
      "Reusing dataset glue (C:\\Users\\nader\\.cache\\huggingface\\datasets\\glue\\sst2\\1.0.0\\dacbe3125aa31d7f70367a07a8a9e72a5a0bfeb5fc42e75c9db75b96da6053ad)\n"
     ]
    }
   ],
   "source": [
    "from datasets import load_dataset\n",
    "\n",
    "\"\"\"\n",
    "transform this dataset to a torchtext dataset\n",
    "\"\"\"\n",
    "ds = load_dataset(\"glue\",\"sst2\")"
   ],
   "metadata": {
    "collapsed": false,
    "pycharm": {
     "name": "#%%\n"
    }
   }
  },
  {
   "cell_type": "code",
   "execution_count": 1,
   "outputs": [],
   "source": [
    "from transformers import AutoTokenizer\n",
    "\n",
    "tok = AutoTokenizer.from_pretrained('bert-base-uncased')"
   ],
   "metadata": {
    "collapsed": false,
    "pycharm": {
     "name": "#%%\n"
    }
   }
  },
  {
   "cell_type": "code",
   "execution_count": 5,
   "outputs": [
    {
     "name": "stderr",
     "output_type": "stream",
     "text": [
      "Reusing dataset snli (C:\\Users\\nader\\.cache\\huggingface\\datasets\\snli\\plain_text\\1.0.0\\1f60b67533b65ae0275561ff7828aad5ee4282d0e6f844fd148d05d3c6ea251b)\n"
     ]
    }
   ],
   "source": [
    "# from load_datasets import  MapTokens2SentencesSNLI\n",
    "ds1 = load_dataset('snli')"
   ],
   "metadata": {
    "collapsed": false,
    "pycharm": {
     "name": "#%%\n"
    }
   }
  },
  {
   "cell_type": "code",
   "execution_count": 7,
   "outputs": [
    {
     "data": {
      "text/plain": "HBox(children=(FloatProgress(value=0.0, max=10.0), HTML(value='')))",
      "application/vnd.jupyter.widget-view+json": {
       "version_major": 2,
       "version_minor": 0,
       "model_id": "395c19f0e60f4c66b7982ac61bffdebe"
      }
     },
     "metadata": {},
     "output_type": "display_data"
    },
    {
     "name": "stdout",
     "output_type": "stream",
     "text": [
      "\n"
     ]
    },
    {
     "data": {
      "text/plain": "HBox(children=(FloatProgress(value=0.0, max=551.0), HTML(value='')))",
      "application/vnd.jupyter.widget-view+json": {
       "version_major": 2,
       "version_minor": 0,
       "model_id": "f13f30d534174ae7955773c7a99af795"
      }
     },
     "metadata": {},
     "output_type": "display_data"
    },
    {
     "name": "stdout",
     "output_type": "stream",
     "text": [
      "\n"
     ]
    },
    {
     "data": {
      "text/plain": "HBox(children=(FloatProgress(value=0.0, max=10.0), HTML(value='')))",
      "application/vnd.jupyter.widget-view+json": {
       "version_major": 2,
       "version_minor": 0,
       "model_id": "0f9b2e5e2ed745acb62ebc9a7c230272"
      }
     },
     "metadata": {},
     "output_type": "display_data"
    },
    {
     "name": "stdout",
     "output_type": "stream",
     "text": [
      "\n"
     ]
    }
   ],
   "source": [
    "def MapTokens2SentencesSNLI(i:dict,task:int=1)->dict:\n",
    "    d1 = {k:v for (k,v) in tok(i[\"premise\"],text_pair=i[\"hypothesis\"],truncation=True,max_length=512).items()}\n",
    "    d1[\"task\"] = [task]*len(i[\"premise\"])\n",
    "    return d1\n",
    "\n",
    "ds1 = ds1.map(lambda x: MapTokens2SentencesSNLI(x,1),batched=True)"
   ],
   "metadata": {
    "collapsed": false,
    "pycharm": {
     "name": "#%%\n"
    }
   }
  },
  {
   "cell_type": "code",
   "execution_count": 3,
   "outputs": [
    {
     "data": {
      "text/plain": "HBox(children=(FloatProgress(value=0.0, max=68.0), HTML(value='')))",
      "application/vnd.jupyter.widget-view+json": {
       "version_major": 2,
       "version_minor": 0,
       "model_id": "766b52283ea64299b61511a66f0f7712"
      }
     },
     "metadata": {},
     "output_type": "display_data"
    },
    {
     "name": "stdout",
     "output_type": "stream",
     "text": [
      "\n"
     ]
    },
    {
     "data": {
      "text/plain": "HBox(children=(FloatProgress(value=0.0, max=1.0), HTML(value='')))",
      "application/vnd.jupyter.widget-view+json": {
       "version_major": 2,
       "version_minor": 0,
       "model_id": "0e8096a3202e4c868a3ccbc00be33739"
      }
     },
     "metadata": {},
     "output_type": "display_data"
    },
    {
     "name": "stdout",
     "output_type": "stream",
     "text": [
      "\n"
     ]
    },
    {
     "data": {
      "text/plain": "HBox(children=(FloatProgress(value=0.0, max=2.0), HTML(value='')))",
      "application/vnd.jupyter.widget-view+json": {
       "version_major": 2,
       "version_minor": 0,
       "model_id": "f0592d023b6f4c54a5218bf523adab71"
      }
     },
     "metadata": {},
     "output_type": "display_data"
    },
    {
     "name": "stdout",
     "output_type": "stream",
     "text": [
      "\n"
     ]
    }
   ],
   "source": [
    "\n",
    "from load_datasets import MapTokens1Sentence\n",
    "ds = ds.map(MapTokens1Sentence,batched=True)\n",
    "\n",
    "\n",
    "\n"
   ],
   "metadata": {
    "collapsed": false,
    "pycharm": {
     "name": "#%%\n"
    }
   }
  },
  {
   "cell_type": "code",
   "execution_count": 37,
   "outputs": [],
   "source": [
    "ds1.set_format(\"torch\",columns=['attention_mask',\n",
    "  'input_ids',\n",
    "  'label',\n",
    "  'task',\n",
    "  'token_type_ids'])"
   ],
   "metadata": {
    "collapsed": false,
    "pycharm": {
     "name": "#%%\n"
    }
   }
  },
  {
   "cell_type": "code",
   "execution_count": 5,
   "outputs": [
    {
     "data": {
      "text/plain": "torch.Size([20, 10])"
     },
     "execution_count": 5,
     "metadata": {},
     "output_type": "execute_result"
    }
   ],
   "source": [
    "import torch\n",
    "div_term = torch.arange(0,10).unsqueeze(0).float()\n",
    "pos = torch.arange(0,20).unsqueeze(1).float()\n",
    "(pos/ div_term).shape"
   ],
   "metadata": {
    "collapsed": false,
    "pycharm": {
     "name": "#%%\n"
    }
   }
  },
  {
   "cell_type": "code",
   "execution_count": 47,
   "outputs": [],
   "source": [
    "from torch.utils.data import DataLoader,ConcatDataset\n",
    "\n",
    "conDS = ConcatDataset([ds1[\"train\"],ds[\"train\"]])\n",
    "conDS"
   ],
   "metadata": {
    "collapsed": false,
    "pycharm": {
     "name": "#%%\n"
    }
   }
  },
  {
   "cell_type": "code",
   "execution_count": 3,
   "outputs": [
    {
     "data": {
      "text/plain": "{'input_ids': [101, 2023, 2003, 1037, 3231, 102, 7632, 2023, 2003, 1037, 3231, 102], 'token_type_ids': [0, 0, 0, 0, 0, 0, 1, 1, 1, 1, 1, 1], 'attention_mask': [1, 1, 1, 1, 1, 1, 1, 1, 1, 1, 1, 1]}"
     },
     "execution_count": 3,
     "metadata": {},
     "output_type": "execute_result"
    }
   ],
   "source": [
    "tok(\"this is a test\",text_pair=\"hi this is a test\",)"
   ],
   "metadata": {
    "collapsed": false,
    "pycharm": {
     "name": "#%%\n"
    }
   }
  }
 ],
 "metadata": {
  "kernelspec": {
   "display_name": "Python 3",
   "language": "python",
   "name": "python3"
  },
  "language_info": {
   "codemirror_mode": {
    "name": "ipython",
    "version": 2
   },
   "file_extension": ".py",
   "mimetype": "text/x-python",
   "name": "python",
   "nbconvert_exporter": "python",
   "pygments_lexer": "ipython2",
   "version": "2.7.6"
  }
 },
 "nbformat": 4,
 "nbformat_minor": 0
}