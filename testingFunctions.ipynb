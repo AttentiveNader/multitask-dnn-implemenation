{
 "cells": [
  {
   "cell_type": "code",
   "execution_count": 4,
   "metadata": {
    "collapsed": true,
    "pycharm": {
     "name": "#%%\n"
    }
   },
   "outputs": [
    {
     "ename": "ImportError",
     "evalue": "attempted relative import with no known parent package",
     "output_type": "error",
     "traceback": [
      "\u001B[1;31m---------------------------------------------------------------------------\u001B[0m",
      "\u001B[1;31mImportError\u001B[0m                               Traceback (most recent call last)",
      "\u001B[1;32m<ipython-input-4-6b58a941cb1e>\u001B[0m in \u001B[0;36m<module>\u001B[1;34m\u001B[0m\n\u001B[1;32m----> 1\u001B[1;33m \u001B[1;32mfrom\u001B[0m \u001B[1;33m.\u001B[0m\u001B[0mutils\u001B[0m \u001B[1;32mimport\u001B[0m \u001B[0mreadQuora\u001B[0m\u001B[1;33m\u001B[0m\u001B[1;33m\u001B[0m\u001B[0m\n\u001B[0m\u001B[0;32m      2\u001B[0m \u001B[1;33m\u001B[0m\u001B[0m\n",
      "\u001B[1;31mImportError\u001B[0m: attempted relative import with no known parent package"
     ]
    }
   ],
   "source": [
    "from .utils import readQuora"
   ]
  },
  {
   "cell_type": "code",
   "execution_count": 6,
   "outputs": [
    {
     "data": {
      "text/plain": "            id    qid1    qid2  \\\n0            0       1       2   \n1            1       3       4   \n2            2       5       6   \n3            3       7       8   \n4            4       9      10   \n...        ...     ...     ...   \n404285  404285  433578  379845   \n404286  404286   18840  155606   \n404287  404287  537928  537929   \n404288  404288  537930  537931   \n404289  404289  537932  537933   \n\n                                                question1  \\\n0       What is the step by step guide to invest in sh...   \n1       What is the story of Kohinoor (Koh-i-Noor) Dia...   \n2       How can I increase the speed of my internet co...   \n3       Why am I mentally very lonely? How can I solve...   \n4       Which one dissolve in water quikly sugar, salt...   \n...                                                   ...   \n404285  How many keywords are there in the Racket prog...   \n404286          Do you believe there is life after death?   \n404287                                  What is one coin?   \n404288  What is the approx annual cost of living while...   \n404289              What is like to have sex with cousin?   \n\n                                                question2  is_duplicate  \n0       What is the step by step guide to invest in sh...             0  \n1       What would happen if the Indian government sto...             0  \n2       How can Internet speed be increased by hacking...             0  \n3       Find the remainder when [math]23^{24}[/math] i...             0  \n4                 Which fish would survive in salt water?             0  \n...                                                   ...           ...  \n404285  How many keywords are there in PERL Programmin...             0  \n404286         Is it true that there is life after death?             1  \n404287                                  What's this coin?             0  \n404288  I am having little hairfall problem but I want...             0  \n404289      What is it like to have sex with your cousin?             0  \n\n[404290 rows x 6 columns]",
      "text/html": "<div>\n<style scoped>\n    .dataframe tbody tr th:only-of-type {\n        vertical-align: middle;\n    }\n\n    .dataframe tbody tr th {\n        vertical-align: top;\n    }\n\n    .dataframe thead th {\n        text-align: right;\n    }\n</style>\n<table border=\"1\" class=\"dataframe\">\n  <thead>\n    <tr style=\"text-align: right;\">\n      <th></th>\n      <th>id</th>\n      <th>qid1</th>\n      <th>qid2</th>\n      <th>question1</th>\n      <th>question2</th>\n      <th>is_duplicate</th>\n    </tr>\n  </thead>\n  <tbody>\n    <tr>\n      <th>0</th>\n      <td>0</td>\n      <td>1</td>\n      <td>2</td>\n      <td>What is the step by step guide to invest in sh...</td>\n      <td>What is the step by step guide to invest in sh...</td>\n      <td>0</td>\n    </tr>\n    <tr>\n      <th>1</th>\n      <td>1</td>\n      <td>3</td>\n      <td>4</td>\n      <td>What is the story of Kohinoor (Koh-i-Noor) Dia...</td>\n      <td>What would happen if the Indian government sto...</td>\n      <td>0</td>\n    </tr>\n    <tr>\n      <th>2</th>\n      <td>2</td>\n      <td>5</td>\n      <td>6</td>\n      <td>How can I increase the speed of my internet co...</td>\n      <td>How can Internet speed be increased by hacking...</td>\n      <td>0</td>\n    </tr>\n    <tr>\n      <th>3</th>\n      <td>3</td>\n      <td>7</td>\n      <td>8</td>\n      <td>Why am I mentally very lonely? How can I solve...</td>\n      <td>Find the remainder when [math]23^{24}[/math] i...</td>\n      <td>0</td>\n    </tr>\n    <tr>\n      <th>4</th>\n      <td>4</td>\n      <td>9</td>\n      <td>10</td>\n      <td>Which one dissolve in water quikly sugar, salt...</td>\n      <td>Which fish would survive in salt water?</td>\n      <td>0</td>\n    </tr>\n    <tr>\n      <th>...</th>\n      <td>...</td>\n      <td>...</td>\n      <td>...</td>\n      <td>...</td>\n      <td>...</td>\n      <td>...</td>\n    </tr>\n    <tr>\n      <th>404285</th>\n      <td>404285</td>\n      <td>433578</td>\n      <td>379845</td>\n      <td>How many keywords are there in the Racket prog...</td>\n      <td>How many keywords are there in PERL Programmin...</td>\n      <td>0</td>\n    </tr>\n    <tr>\n      <th>404286</th>\n      <td>404286</td>\n      <td>18840</td>\n      <td>155606</td>\n      <td>Do you believe there is life after death?</td>\n      <td>Is it true that there is life after death?</td>\n      <td>1</td>\n    </tr>\n    <tr>\n      <th>404287</th>\n      <td>404287</td>\n      <td>537928</td>\n      <td>537929</td>\n      <td>What is one coin?</td>\n      <td>What's this coin?</td>\n      <td>0</td>\n    </tr>\n    <tr>\n      <th>404288</th>\n      <td>404288</td>\n      <td>537930</td>\n      <td>537931</td>\n      <td>What is the approx annual cost of living while...</td>\n      <td>I am having little hairfall problem but I want...</td>\n      <td>0</td>\n    </tr>\n    <tr>\n      <th>404289</th>\n      <td>404289</td>\n      <td>537932</td>\n      <td>537933</td>\n      <td>What is like to have sex with cousin?</td>\n      <td>What is it like to have sex with your cousin?</td>\n      <td>0</td>\n    </tr>\n  </tbody>\n</table>\n<p>404290 rows × 6 columns</p>\n</div>"
     },
     "execution_count": 6,
     "metadata": {},
     "output_type": "execute_result"
    }
   ],
   "source": [
    "# from utils import readQuora\n",
    "#\n",
    "df =readQuora()\n",
    "df"
   ],
   "metadata": {
    "collapsed": false,
    "pycharm": {
     "name": "#%%\n"
    }
   }
  },
  {
   "cell_type": "code",
   "execution_count": 15,
   "outputs": [
    {
     "data": {
      "text/plain": "                                               premise  \\\n0    Crude oil for April delivery traded at $37.80 ...   \n1    Oracle had fought to keep the forms from being...   \n2     iTunes software has seen strong sales in Europe.   \n3    All genetically modified food, including soya ...   \n4    Researchers at the Harvard School of Public He...   \n..                                                 ...   \n562  Time Warner is the world's largest media and I...   \n563  After watching fireworks yesterday evening in ...   \n564  Vice President Dick Cheney on Tuesday hurled a...   \n565  Chancellor Schroeder has presided over three y...   \n566  Two bombs planted near an Islamic school in Pa...   \n\n                                            hypothesis  label  \n0           Crude oil prices rose to $37.80 per barrel  FALSE  \n1              Oracle released a confidential document  FALSE  \n2                   Strong sales for iTunes in Europe.   TRUE  \n3    Companies selling genetically modified foods d...  FALSE  \n4                 Coffee drinking has health benefits.   TRUE  \n..                                                 ...    ...  \n562        Time Warner is the world's largest company.  FALSE  \n563                           Kerry watched fireworks.   TRUE  \n564               Cheney cursed at Sen. Patrick Leahy.   TRUE  \n565  More than four million people have remained st...  FALSE  \n566           42 people killed in Karachi bomb attack.  FALSE  \n\n[567 rows x 3 columns]",
      "text/html": "<div>\n<style scoped>\n    .dataframe tbody tr th:only-of-type {\n        vertical-align: middle;\n    }\n\n    .dataframe tbody tr th {\n        vertical-align: top;\n    }\n\n    .dataframe thead th {\n        text-align: right;\n    }\n</style>\n<table border=\"1\" class=\"dataframe\">\n  <thead>\n    <tr style=\"text-align: right;\">\n      <th></th>\n      <th>premise</th>\n      <th>hypothesis</th>\n      <th>label</th>\n    </tr>\n  </thead>\n  <tbody>\n    <tr>\n      <th>0</th>\n      <td>Crude oil for April delivery traded at $37.80 ...</td>\n      <td>Crude oil prices rose to $37.80 per barrel</td>\n      <td>FALSE</td>\n    </tr>\n    <tr>\n      <th>1</th>\n      <td>Oracle had fought to keep the forms from being...</td>\n      <td>Oracle released a confidential document</td>\n      <td>FALSE</td>\n    </tr>\n    <tr>\n      <th>2</th>\n      <td>iTunes software has seen strong sales in Europe.</td>\n      <td>Strong sales for iTunes in Europe.</td>\n      <td>TRUE</td>\n    </tr>\n    <tr>\n      <th>3</th>\n      <td>All genetically modified food, including soya ...</td>\n      <td>Companies selling genetically modified foods d...</td>\n      <td>FALSE</td>\n    </tr>\n    <tr>\n      <th>4</th>\n      <td>Researchers at the Harvard School of Public He...</td>\n      <td>Coffee drinking has health benefits.</td>\n      <td>TRUE</td>\n    </tr>\n    <tr>\n      <th>...</th>\n      <td>...</td>\n      <td>...</td>\n      <td>...</td>\n    </tr>\n    <tr>\n      <th>562</th>\n      <td>Time Warner is the world's largest media and I...</td>\n      <td>Time Warner is the world's largest company.</td>\n      <td>FALSE</td>\n    </tr>\n    <tr>\n      <th>563</th>\n      <td>After watching fireworks yesterday evening in ...</td>\n      <td>Kerry watched fireworks.</td>\n      <td>TRUE</td>\n    </tr>\n    <tr>\n      <th>564</th>\n      <td>Vice President Dick Cheney on Tuesday hurled a...</td>\n      <td>Cheney cursed at Sen. Patrick Leahy.</td>\n      <td>TRUE</td>\n    </tr>\n    <tr>\n      <th>565</th>\n      <td>Chancellor Schroeder has presided over three y...</td>\n      <td>More than four million people have remained st...</td>\n      <td>FALSE</td>\n    </tr>\n    <tr>\n      <th>566</th>\n      <td>Two bombs planted near an Islamic school in Pa...</td>\n      <td>42 people killed in Karachi bomb attack.</td>\n      <td>FALSE</td>\n    </tr>\n  </tbody>\n</table>\n<p>567 rows × 3 columns</p>\n</div>"
     },
     "execution_count": 15,
     "metadata": {},
     "output_type": "execute_result"
    }
   ],
   "source": [
    "import pandas as pd\n",
    "import xml.etree.ElementTree as et\n",
    "\n",
    "# xroot = et.parse(\"./data/rte/rte1_dev.xml\").getroot()\n",
    "# ds = {\"premise\":[],\"hypothesis\":[],\"label\":[]}\n",
    "# for i in xroot:\n",
    "#     premise = i[0].text\n",
    "#     hypothesis = i[1].text\n",
    "#     label = i.attrib.get(\"entailment\")\n",
    "#     label = label if label is not None else i.attrib.get(\"value\"\n",
    "#     label =\n",
    "#     ds[\"premise\"].append(premise)\n",
    "#     ds[\"hypothesis\"].append(hypothesis)\n",
    "#     ds[\"label\"].append(label)\n",
    "\n"
   ],
   "metadata": {
    "collapsed": false,
    "pycharm": {
     "name": "#%%\n"
    }
   }
  },
  {
   "cell_type": "code",
   "execution_count": 2,
   "outputs": [
    {
     "data": {
      "text/plain": "device(type='cuda')"
     },
     "execution_count": 2,
     "metadata": {},
     "output_type": "execute_result"
    }
   ],
   "source": [
    "import torch\n",
    "device = torch.device(\"cuda\" if torch.cuda.is_available() else \"cpu\")\n",
    "device\n"
   ],
   "metadata": {
    "collapsed": false,
    "pycharm": {
     "name": "#%%\n"
    }
   }
  },
  {
   "cell_type": "code",
   "execution_count": 1,
   "outputs": [
    {
     "name": "stderr",
     "output_type": "stream",
     "text": [
      "Reusing dataset glue (C:\\Users\\nader\\.cache\\huggingface\\datasets\\glue\\sst2\\1.0.0\\dacbe3125aa31d7f70367a07a8a9e72a5a0bfeb5fc42e75c9db75b96da6053ad)\n"
     ]
    }
   ],
   "source": [
    "from datasets import load_dataset\n",
    "\n",
    "\"\"\"\n",
    "transform this dataset to a torchtext dataset\n",
    "\"\"\"\n",
    "ds = load_dataset(\"glue\",\"sst2\")"
   ],
   "metadata": {
    "collapsed": false,
    "pycharm": {
     "name": "#%%\n"
    }
   }
  },
  {
   "cell_type": "code",
   "execution_count": 2,
   "outputs": [],
   "source": [
    "from transformers import AutoTokenizer\n",
    "\n",
    "tok = AutoTokenizer.from_pretrained('bert-base-uncased')"
   ],
   "metadata": {
    "collapsed": false,
    "pycharm": {
     "name": "#%%\n"
    }
   }
  },
  {
   "cell_type": "code",
   "execution_count": 25,
   "outputs": [
    {
     "data": {
      "text/plain": "HBox(children=(FloatProgress(value=0.0, description='Downloading', max=1626.0, style=ProgressStyle(description…",
      "application/vnd.jupyter.widget-view+json": {
       "version_major": 2,
       "version_minor": 0,
       "model_id": "62f48dd2d591447da564838d27825a5c"
      }
     },
     "metadata": {},
     "output_type": "display_data"
    },
    {
     "name": "stdout",
     "output_type": "stream",
     "text": [
      "\n"
     ]
    },
    {
     "data": {
      "text/plain": "HBox(children=(FloatProgress(value=0.0, description='Downloading', max=938.0, style=ProgressStyle(description_…",
      "application/vnd.jupyter.widget-view+json": {
       "version_major": 2,
       "version_minor": 0,
       "model_id": "3d88dbc97eb146089eec9c505051c8f4"
      }
     },
     "metadata": {},
     "output_type": "display_data"
    },
    {
     "name": "stdout",
     "output_type": "stream",
     "text": [
      "\n",
      "Downloading and preparing dataset snli/plain_text (download: 90.17 MiB, generated: 65.51 MiB, post-processed: Unknown size, total: 155.68 MiB) to C:\\Users\\nader\\.cache\\huggingface\\datasets\\snli\\plain_text\\1.0.0\\1f60b67533b65ae0275561ff7828aad5ee4282d0e6f844fd148d05d3c6ea251b...\n"
     ]
    },
    {
     "data": {
      "text/plain": "HBox(children=(FloatProgress(value=0.0, description='Downloading', max=1929.0, style=ProgressStyle(description…",
      "application/vnd.jupyter.widget-view+json": {
       "version_major": 2,
       "version_minor": 0,
       "model_id": "6f91de35e3214d61a3dee819f3ad1694"
      }
     },
     "metadata": {},
     "output_type": "display_data"
    },
    {
     "name": "stdout",
     "output_type": "stream",
     "text": [
      "\n"
     ]
    },
    {
     "data": {
      "text/plain": "HBox(children=(FloatProgress(value=0.0, description='Downloading', max=1259440.0, style=ProgressStyle(descript…",
      "application/vnd.jupyter.widget-view+json": {
       "version_major": 2,
       "version_minor": 0,
       "model_id": "2642329bbbc04e598c092f933052dead"
      }
     },
     "metadata": {},
     "output_type": "display_data"
    },
    {
     "name": "stdout",
     "output_type": "stream",
     "text": [
      "\n"
     ]
    },
    {
     "data": {
      "text/plain": "HBox(children=(FloatProgress(value=0.0, description='Downloading', max=65886400.0, style=ProgressStyle(descrip…",
      "application/vnd.jupyter.widget-view+json": {
       "version_major": 2,
       "version_minor": 0,
       "model_id": "138cf14265434f2cabe2d27ec72323e5"
      }
     },
     "metadata": {},
     "output_type": "display_data"
    },
    {
     "name": "stdout",
     "output_type": "stream",
     "text": [
      "\n"
     ]
    },
    {
     "data": {
      "text/plain": "HBox(children=(FloatProgress(value=0.0, description='Downloading', max=1263568.0, style=ProgressStyle(descript…",
      "application/vnd.jupyter.widget-view+json": {
       "version_major": 2,
       "version_minor": 0,
       "model_id": "803717ed074e49149510685e69121440"
      }
     },
     "metadata": {},
     "output_type": "display_data"
    },
    {
     "name": "stdout",
     "output_type": "stream",
     "text": [
      "\n",
      "Dataset snli downloaded and prepared to C:\\Users\\nader\\.cache\\huggingface\\datasets\\snli\\plain_text\\1.0.0\\1f60b67533b65ae0275561ff7828aad5ee4282d0e6f844fd148d05d3c6ea251b. Subsequent calls will reuse this data.\n"
     ]
    }
   ],
   "source": [
    "# from load_datasets import  MapTokens2SentencesSNLI\n",
    "ds1 = load_dataset('snli')"
   ],
   "metadata": {
    "collapsed": false,
    "pycharm": {
     "name": "#%%\n"
    }
   }
  },
  {
   "cell_type": "code",
   "execution_count": 31,
   "outputs": [
    {
     "data": {
      "text/plain": "HBox(children=(FloatProgress(value=0.0, max=10.0), HTML(value='')))",
      "application/vnd.jupyter.widget-view+json": {
       "version_major": 2,
       "version_minor": 0,
       "model_id": "6aeb6fdf86614950a17be6336047f77d"
      }
     },
     "metadata": {},
     "output_type": "display_data"
    },
    {
     "name": "stdout",
     "output_type": "stream",
     "text": [
      "\n"
     ]
    },
    {
     "data": {
      "text/plain": "HBox(children=(FloatProgress(value=0.0, max=551.0), HTML(value='')))",
      "application/vnd.jupyter.widget-view+json": {
       "version_major": 2,
       "version_minor": 0,
       "model_id": "7e0b2776fe354d25961bccdae700bee8"
      }
     },
     "metadata": {},
     "output_type": "display_data"
    },
    {
     "name": "stdout",
     "output_type": "stream",
     "text": [
      "\n"
     ]
    },
    {
     "data": {
      "text/plain": "HBox(children=(FloatProgress(value=0.0, max=10.0), HTML(value='')))",
      "application/vnd.jupyter.widget-view+json": {
       "version_major": 2,
       "version_minor": 0,
       "model_id": "8fa069db4c9542ef94981555506aaf59"
      }
     },
     "metadata": {},
     "output_type": "display_data"
    },
    {
     "name": "stdout",
     "output_type": "stream",
     "text": [
      "\n"
     ]
    }
   ],
   "source": [
    "def MapTokens2SentencesSNLI(i:dict,task:int=1)->dict:\n",
    "    d1 = {k:v for (k,v) in tok(i[\"premise\"],text_pair=i[\"hypothesis\"],truncation=True,padding='max_length').items()}\n",
    "    d1[\"task\"] = [task]*len(i[\"premise\"])\n",
    "    return d1\n",
    "\n",
    "ds1 = ds1.map(lambda x: MapTokens2SentencesSNLI(x,1),batched=True)"
   ],
   "metadata": {
    "collapsed": false,
    "pycharm": {
     "name": "#%%\n"
    }
   }
  },
  {
   "cell_type": "code",
   "execution_count": 3,
   "outputs": [
    {
     "data": {
      "text/plain": "HBox(children=(FloatProgress(value=0.0, max=68.0), HTML(value='')))",
      "application/vnd.jupyter.widget-view+json": {
       "version_major": 2,
       "version_minor": 0,
       "model_id": "766b52283ea64299b61511a66f0f7712"
      }
     },
     "metadata": {},
     "output_type": "display_data"
    },
    {
     "name": "stdout",
     "output_type": "stream",
     "text": [
      "\n"
     ]
    },
    {
     "data": {
      "text/plain": "HBox(children=(FloatProgress(value=0.0, max=1.0), HTML(value='')))",
      "application/vnd.jupyter.widget-view+json": {
       "version_major": 2,
       "version_minor": 0,
       "model_id": "0e8096a3202e4c868a3ccbc00be33739"
      }
     },
     "metadata": {},
     "output_type": "display_data"
    },
    {
     "name": "stdout",
     "output_type": "stream",
     "text": [
      "\n"
     ]
    },
    {
     "data": {
      "text/plain": "HBox(children=(FloatProgress(value=0.0, max=2.0), HTML(value='')))",
      "application/vnd.jupyter.widget-view+json": {
       "version_major": 2,
       "version_minor": 0,
       "model_id": "f0592d023b6f4c54a5218bf523adab71"
      }
     },
     "metadata": {},
     "output_type": "display_data"
    },
    {
     "name": "stdout",
     "output_type": "stream",
     "text": [
      "\n"
     ]
    }
   ],
   "source": [
    "\n",
    "from load_datasets import MapTokens1Sentence\n",
    "ds = ds.map(MapTokens1Sentence,batched=True)\n",
    "\n",
    "\n",
    "\n"
   ],
   "metadata": {
    "collapsed": false,
    "pycharm": {
     "name": "#%%\n"
    }
   }
  },
  {
   "cell_type": "code",
   "execution_count": 37,
   "outputs": [],
   "source": [
    "ds1.set_format(\"torch\",columns=['attention_mask',\n",
    "  'input_ids',\n",
    "  'label',\n",
    "  'task',\n",
    "  'token_type_ids'])"
   ],
   "metadata": {
    "collapsed": false,
    "pycharm": {
     "name": "#%%\n"
    }
   }
  },
  {
   "cell_type": "code",
   "execution_count": 43,
   "outputs": [
    {
     "data": {
      "text/plain": "{'train': ['attention_mask',\n  'idx',\n  'input_ids',\n  'label',\n  'sentence',\n  'task',\n  'token_type_ids'],\n 'validation': ['attention_mask',\n  'idx',\n  'input_ids',\n  'label',\n  'sentence',\n  'task',\n  'token_type_ids'],\n 'test': ['attention_mask',\n  'idx',\n  'input_ids',\n  'label',\n  'sentence',\n  'task',\n  'token_type_ids']}"
     },
     "execution_count": 43,
     "metadata": {},
     "output_type": "execute_result"
    }
   ],
   "source": [
    "ds.column_names"
   ],
   "metadata": {
    "collapsed": false,
    "pycharm": {
     "name": "#%%\n"
    }
   }
  },
  {
   "cell_type": "code",
   "execution_count": 47,
   "outputs": [],
   "source": [
    "from torch.utils.data import DataLoader,ConcatDataset\n",
    "\n",
    "conDS = ConcatDataset([ds1[\"train\"],ds[\"train\"]])\n",
    "conDS"
   ],
   "metadata": {
    "collapsed": false,
    "pycharm": {
     "name": "#%%\n"
    }
   }
  },
  {
   "cell_type": "code",
   "execution_count": 3,
   "outputs": [
    {
     "data": {
      "text/plain": "True"
     },
     "execution_count": 3,
     "metadata": {},
     "output_type": "execute_result"
    }
   ],
   "source": [
    "import torch\n",
    "torch.cuda.is_available()"
   ],
   "metadata": {
    "collapsed": false,
    "pycharm": {
     "name": "#%%\n"
    }
   }
  }
 ],
 "metadata": {
  "kernelspec": {
   "display_name": "Python 3",
   "language": "python",
   "name": "python3"
  },
  "language_info": {
   "codemirror_mode": {
    "name": "ipython",
    "version": 2
   },
   "file_extension": ".py",
   "mimetype": "text/x-python",
   "name": "python",
   "nbconvert_exporter": "python",
   "pygments_lexer": "ipython2",
   "version": "2.7.6"
  }
 },
 "nbformat": 4,
 "nbformat_minor": 0
}